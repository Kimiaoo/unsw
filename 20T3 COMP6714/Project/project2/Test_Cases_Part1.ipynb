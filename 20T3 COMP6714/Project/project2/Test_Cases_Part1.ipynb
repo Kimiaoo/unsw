{
 "cells": [
  {
   "cell_type": "code",
   "execution_count": 17,
   "metadata": {},
   "outputs": [],
   "source": [
    "from Inv_Index import InvertedIndex\n",
    "from project_part1 import WAND_Algo"
   ]
  },
  {
   "cell_type": "markdown",
   "metadata": {},
   "source": [
    "### Dataset"
   ]
  },
  {
   "cell_type": "code",
   "execution_count": 18,
   "metadata": {},
   "outputs": [],
   "source": [
    "documents = {1: 'Ink helps drive democracy in Asia The Kyrgyz Republic a small mountainous state of the former Soviet republic is using invisible ink and ultraviolet readers in the country s elections as part of a dri', \n",
    "             2: 'China net cafe culture crackdown Chinese authorities closed 12575 net cafes in the closing months of 2004 the country s government said According to the official news agency most of the net cafes were',\n",
    "             3: 'Microsoft seeking spyware trojan Microsoft is investigating a trojan program that attempts to switch off the firm s anti  spyware software The spyware tool was only released by Microsoft in the last f', \n",
    "             4: 'Digital guru floats sub100 PC Nicholas Negroponte chairman and founder of MIT s Media Labs says he is developing a laptop PC that will go on sale for less than  100 £ 53 He told the BBC World Service ', \n",
    "             5: 'Technology gets the creative bug The hi tech and the arts worlds have for some time danced around each other and offered creative and technical help when required Often this help has come in the form ', \n",
    "             6: 'Wi fi web reaches farmers in Peru A network of community computer centres linked by wireless technology is providing a helping hand for poor farmers in Peru The pilot scheme in the Huaral Valley 80 ki', \n",
    "             7: 'Microsoft releases bumper patches Microsoft has warned PC users to update their systems with the latest security fixes for flaws in Windows programs In its monthly security bulletin it flagged up eigh', \n",
    "             8: 'Virus poses as Christmas e mail Security firms are warning about a Windows virus disguising itself as an electronic Christmas card The Zafi D virus translates the Christmas greeting on its subject lin', \n",
    "             9: 'Apple laptop is greatest gadget The Apple Powerbook 100 has been chosen as the greatest gadget of all time by US magazine Mobile PC The 1991 laptop was chosen because it was one of the first lightweig', \n",
    "             10: 'Google s toolbar sparks concern Search engine firm Google has released a trial tool which is concerning some net users because it directs people to pre  selected commercial websites The AutoLink featu',\n",
    "             11: 'UK net users leading TV downloads British TV viewers lead the trend of illegally downloading US shows from the net according to research New episodes of 24 Desperate Housewives and Six Feet Under appe', \n",
    "             12: 'IBM puts cash behind Linux push IBM is spending  100 m £ 52 m over the next three years beefing up its commitment to Linux software The cash injection will be used to help its customers use Linux on e', \n",
    "             13: 'UK pioneers digital film network The world s first digital cinema network will be established in the UK over the next 18 months The UK Film Council has awarded a contract worth £ 115 m to Arts Allianc', \n",
    "             14: 'EU software patent law faces axe The European Parliament has thrown out a bill that would have allowed software to be patented Politicians unanimously rejected the bill and now it must go through anot', \n",
    "             15: 'Xbox power cable fire fear Microsoft has said it will replace more than 14 million power cables for its Xbox consoles due to safety concerns The company said the move was a preventative step after rep', \n",
    "             16: 'Global blogger action day called The global web blog community is being called into action to lend support to two imprisoned Iranian bloggers The month old Committee to Protect Bloggers is asking thos', \n",
    "             17: 'Finding new homes for old phones Re using old mobile phones is not just good for the environment it has social benefits too Research has found that in some developing nations old mobile phones can hel', \n",
    "             18: 'PlayStation 3 chip to be unveiled Details of the chip designed to power Sony s PlayStation 3 console will be released in San Francisco on Monday Sony IBM and Toshiba who have been working on the Cell ', \n",
    "             19: 'Intel unveils laser breakthrough Intel has unveiled research that could mean data is soon being moved around chips at the speed of light Scientists at Intel have overcome a fundamental problem that be', \n",
    "             20: 'Security scares spark browser fix Microsoft is working on a new version of its Internet Explorer web browser The revamp has been prompted by Microsoft s growing concern with security as well as increa'}"
   ]
  },
  {
   "cell_type": "code",
   "execution_count": 19,
   "metadata": {},
   "outputs": [],
   "source": [
    "## 1. Construct and get inverted_index\n",
    "inverted_index = InvertedIndex(documents).get_inverted_index()"
   ]
  },
  {
   "cell_type": "markdown",
   "metadata": {},
   "source": [
    "### Test Case 1"
   ]
  },
  {
   "cell_type": "code",
   "execution_count": 20,
   "metadata": {},
   "outputs": [
    {
     "name": "stdout",
     "output_type": "stream",
     "text": [
      "query_terms:  ['the', 'Ink']\n",
      "top_k:    3\n",
      "inverted_index    defaultdict(<class 'list'>, {'Ink': [(1, 4)], 'helps': [(1, 4)], 'drive': [(1, 4)], 'democracy': [(1, 4)], 'in': [(1, 4), (2, 2), (3, 2), (5, 2), (6, 4), (7, 2), (13, 2), (17, 2), (18, 2)], 'Asia': [(1, 4)], 'The': [(1, 2), (3, 2), (5, 2), (6, 2), (8, 2), (9, 4), (10, 2), (12, 2), (13, 4), (14, 2), (15, 2), (16, 4), (20, 2)], 'Kyrgyz': [(1, 4)], 'Republic': [(1, 4)], 'a': [(1, 4), (3, 2), (4, 2), (6, 2), (8, 2), (10, 2), (13, 2), (14, 2), (15, 2), (19, 2), (20, 2)], 'small': [(1, 4)], 'mountainous': [(1, 4)], 'state': [(1, 4)], 'of': [(1, 4), (2, 4), (4, 2), (6, 2), (9, 4), (11, 4), (18, 2), (19, 2), (20, 2)], 'the': [(1, 4), (2, 4), (3, 4), (4, 2), (5, 4), (6, 2), (7, 2), (8, 2), (9, 4), (11, 4), (12, 2), (13, 4), (14, 2), (15, 2), (17, 2), (18, 4), (19, 2)], 'former': [(1, 4)], 'Soviet': [(1, 4)], 'republic': [(1, 4)], 'is': [(1, 2), (3, 2), (4, 2), (6, 2), (9, 2), (10, 2), (12, 2), (16, 4), (17, 2), (19, 2), (20, 2)], 'using': [(1, 3), (17, 3)], 'invisible': [(1, 4)], 'ink': [(1, 4)], 'and': [(1, 3), (4, 3), (5, 6), (11, 3), (14, 3), (18, 3)], 'ultraviolet': [(1, 4)], 'readers': [(1, 4)], 'country': [(1, 3), (2, 3)], 's': [(1, 2), (2, 2), (3, 2), (4, 2), (10, 2), (13, 2), (18, 2), (20, 2)], 'elections': [(1, 4)], 'as': [(1, 3), (8, 6), (9, 3), (20, 6)], 'part': [(1, 4)], 'dri': [(1, 4)], 'China': [(2, 4)], 'net': [(2, 6), (10, 3), (11, 6)], 'cafe': [(2, 4)], 'culture': [(2, 4)], 'crackdown': [(2, 4)], 'Chinese': [(2, 4)], 'authorities': [(2, 4)], 'closed': [(2, 4)], '12575': [(2, 4)], 'cafes': [(2, 8)], 'closing': [(2, 4)], 'months': [(2, 3), (13, 3)], '2004': [(2, 4)], 'government': [(2, 4)], 'said': [(2, 3), (15, 6)], 'According': [(2, 4)], 'to': [(2, 2), (3, 2), (7, 2), (10, 2), (11, 2), (12, 4), (13, 2), (14, 2), (15, 2), (16, 4), (18, 4)], 'official': [(2, 4)], 'news': [(2, 4)], 'agency': [(2, 4)], 'most': [(2, 4)], 'were': [(2, 4)], 'Microsoft': [(3, 6), (7, 6), (15, 3), (20, 6)], 'seeking': [(3, 4)], 'spyware': [(3, 8)], 'trojan': [(3, 8)], 'investigating': [(3, 4)], 'program': [(3, 4)], 'that': [(3, 3), (4, 3), (14, 3), (17, 3), (19, 6)], 'attempts': [(3, 4)], 'switch': [(3, 4)], 'off': [(3, 4)], 'firm': [(3, 3), (10, 3)], 'anti': [(3, 4)], 'software': [(3, 3), (12, 3), (14, 6)], 'tool': [(3, 3), (10, 3)], 'was': [(3, 3), (9, 6), (15, 3)], 'only': [(3, 4)], 'released': [(3, 3), (10, 3), (18, 3)], 'by': [(3, 3), (6, 3), (9, 3), (20, 3)], 'last': [(3, 4)], 'f': [(3, 4)], 'Digital': [(4, 4)], 'guru': [(4, 4)], 'floats': [(4, 4)], 'sub100': [(4, 4)], 'PC': [(4, 6), (7, 3), (9, 3)], 'Nicholas': [(4, 4)], 'Negroponte': [(4, 4)], 'chairman': [(4, 4)], 'founder': [(4, 4)], 'MIT': [(4, 4)], 'Media': [(4, 4)], 'Labs': [(4, 4)], 'says': [(4, 4)], 'he': [(4, 4)], 'developing': [(4, 3), (17, 3)], 'laptop': [(4, 3), (9, 6)], 'will': [(4, 3), (12, 3), (13, 3), (15, 3), (18, 3)], 'go': [(4, 3), (14, 3)], 'on': [(4, 3), (8, 3), (12, 3), (18, 6), (20, 3)], 'sale': [(4, 4)], 'for': [(4, 3), (5, 3), (6, 3), (7, 3), (15, 3), (17, 6)], 'less': [(4, 4)], 'than': [(4, 3), (15, 3)], '100': [(4, 3), (9, 3), (12, 3)], '£': [(4, 3), (12, 3), (13, 3)], '53': [(4, 4)], 'He': [(4, 4)], 'told': [(4, 4)], 'BBC': [(4, 4)], 'World': [(4, 4)], 'Service': [(4, 4)], 'Technology': [(5, 4)], 'gets': [(5, 4)], 'creative': [(5, 8)], 'bug': [(5, 4)], 'hi': [(5, 4)], 'tech': [(5, 4)], 'arts': [(5, 4)], 'worlds': [(5, 4)], 'have': [(5, 3), (14, 3), (18, 3), (19, 3)], 'some': [(5, 3), (10, 3), (17, 3)], 'time': [(5, 3), (9, 3)], 'danced': [(5, 4)], 'around': [(5, 3), (19, 3)], 'each': [(5, 4)], 'other': [(5, 4)], 'offered': [(5, 4)], 'technical': [(5, 4)], 'help': [(5, 6), (12, 3)], 'when': [(5, 4)], 'required': [(5, 4)], 'Often': [(5, 4)], 'this': [(5, 4)], 'has': [(5, 2), (7, 2), (9, 2), (10, 2), (13, 2), (14, 2), (15, 2), (17, 4), (19, 2), (20, 2)], 'come': [(5, 4)], 'form': [(5, 4)], 'Wi': [(6, 4)], 'fi': [(6, 4)], 'web': [(6, 3), (16, 3), (20, 3)], 'reaches': [(6, 4)], 'farmers': [(6, 8)], 'Peru': [(6, 8)], 'A': [(6, 4)], 'network': [(6, 3), (13, 6)], 'community': [(6, 3), (16, 3)], 'computer': [(6, 4)], 'centres': [(6, 4)], 'linked': [(6, 4)], 'wireless': [(6, 4)], 'technology': [(6, 4)], 'providing': [(6, 4)], 'helping': [(6, 4)], 'hand': [(6, 4)], 'poor': [(6, 4)], 'pilot': [(6, 4)], 'scheme': [(6, 4)], 'Huaral': [(6, 4)], 'Valley': [(6, 4)], '80': [(6, 4)], 'ki': [(6, 4)], 'releases': [(7, 4)], 'bumper': [(7, 4)], 'patches': [(7, 4)], 'warned': [(7, 4)], 'users': [(7, 3), (10, 3), (11, 3)], 'update': [(7, 4)], 'their': [(7, 4)], 'systems': [(7, 4)], 'with': [(7, 3), (20, 3)], 'latest': [(7, 4)], 'security': [(7, 6), (20, 3)], 'fixes': [(7, 4)], 'flaws': [(7, 4)], 'Windows': [(7, 3), (8, 3)], 'programs': [(7, 4)], 'In': [(7, 4)], 'its': [(7, 3), (8, 3), (12, 6), (15, 3), (20, 3)], 'monthly': [(7, 4)], 'bulletin': [(7, 4)], 'it': [(7, 3), (9, 3), (10, 3), (14, 3), (15, 3), (17, 3)], 'flagged': [(7, 4)], 'up': [(7, 3), (12, 3)], 'eigh': [(7, 4)], 'Virus': [(8, 4)], 'poses': [(8, 4)], 'Christmas': [(8, 8)], 'e': [(8, 3), (12, 3)], 'mail': [(8, 4)], 'Security': [(8, 3), (20, 3)], 'firms': [(8, 4)], 'are': [(8, 4)], 'warning': [(8, 4)], 'about': [(8, 4)], 'virus': [(8, 8)], 'disguising': [(8, 4)], 'itself': [(8, 4)], 'an': [(8, 4)], 'electronic': [(8, 4)], 'card': [(8, 4)], 'Zafi': [(8, 4)], 'D': [(8, 4)], 'translates': [(8, 4)], 'greeting': [(8, 4)], 'subject': [(8, 4)], 'lin': [(8, 4)], 'Apple': [(9, 8)], 'greatest': [(9, 8)], 'gadget': [(9, 8)], 'Powerbook': [(9, 4)], 'been': [(9, 3), (18, 3), (20, 3)], 'chosen': [(9, 8)], 'all': [(9, 4)], 'US': [(9, 3), (11, 3)], 'magazine': [(9, 4)], 'Mobile': [(9, 4)], '1991': [(9, 4)], 'because': [(9, 3), (10, 3)], 'one': [(9, 4)], 'first': [(9, 3), (13, 3)], 'lightweig': [(9, 4)], 'Google': [(10, 8)], 'toolbar': [(10, 4)], 'sparks': [(10, 4)], 'concern': [(10, 3), (20, 3)], 'Search': [(10, 4)], 'engine': [(10, 4)], 'trial': [(10, 4)], 'which': [(10, 4)], 'concerning': [(10, 4)], 'directs': [(10, 4)], 'people': [(10, 4)], 'pre': [(10, 4)], 'selected': [(10, 4)], 'commercial': [(10, 4)], 'websites': [(10, 4)], 'AutoLink': [(10, 4)], 'featu': [(10, 4)], 'UK': [(11, 3), (13, 6)], 'leading': [(11, 4)], 'TV': [(11, 8)], 'downloads': [(11, 4)], 'British': [(11, 4)], 'viewers': [(11, 4)], 'lead': [(11, 4)], 'trend': [(11, 4)], 'illegally': [(11, 4)], 'downloading': [(11, 4)], 'shows': [(11, 4)], 'from': [(11, 4)], 'according': [(11, 4)], 'research': [(11, 3), (19, 3)], 'New': [(11, 4)], 'episodes': [(11, 4)], '24': [(11, 4)], 'Desperate': [(11, 4)], 'Housewives': [(11, 4)], 'Six': [(11, 4)], 'Feet': [(11, 4)], 'Under': [(11, 4)], 'appe': [(11, 4)], 'IBM': [(12, 6), (18, 3)], 'puts': [(12, 4)], 'cash': [(12, 8)], 'behind': [(12, 4)], 'Linux': [(12, 8)], 'push': [(12, 4)], 'spending': [(12, 4)], 'm': [(12, 6), (13, 3)], '52': [(12, 4)], 'over': [(12, 3), (13, 3)], 'next': [(12, 3), (13, 3)], 'three': [(12, 4)], 'years': [(12, 4)], 'beefing': [(12, 4)], 'commitment': [(12, 4)], 'injection': [(12, 4)], 'be': [(12, 3), (13, 3), (14, 3), (18, 6), (19, 3)], 'used': [(12, 4)], 'customers': [(12, 4)], 'use': [(12, 4)], 'pioneers': [(13, 4)], 'digital': [(13, 8)], 'film': [(13, 4)], 'world': [(13, 4)], 'cinema': [(13, 4)], 'established': [(13, 4)], '18': [(13, 4)], 'Film': [(13, 4)], 'Council': [(13, 4)], 'awarded': [(13, 4)], 'contract': [(13, 4)], 'worth': [(13, 4)], '115': [(13, 4)], 'Arts': [(13, 4)], 'Allianc': [(13, 4)], 'EU': [(14, 4)], 'patent': [(14, 4)], 'law': [(14, 4)], 'faces': [(14, 4)], 'axe': [(14, 4)], 'European': [(14, 4)], 'Parliament': [(14, 4)], 'thrown': [(14, 4)], 'out': [(14, 4)], 'bill': [(14, 8)], 'would': [(14, 4)], 'allowed': [(14, 4)], 'patented': [(14, 4)], 'Politicians': [(14, 4)], 'unanimously': [(14, 4)], 'rejected': [(14, 4)], 'now': [(14, 4)], 'must': [(14, 4)], 'through': [(14, 4)], 'anot': [(14, 4)], 'Xbox': [(15, 8)], 'power': [(15, 6), (18, 3)], 'cable': [(15, 4)], 'fire': [(15, 4)], 'fear': [(15, 4)], 'replace': [(15, 4)], 'more': [(15, 4)], '14': [(15, 4)], 'million': [(15, 4)], 'cables': [(15, 4)], 'consoles': [(15, 4)], 'due': [(15, 4)], 'safety': [(15, 4)], 'concerns': [(15, 4)], 'company': [(15, 4)], 'move': [(15, 4)], 'preventative': [(15, 4)], 'step': [(15, 4)], 'after': [(15, 4)], 'rep': [(15, 4)], 'Global': [(16, 4)], 'blogger': [(16, 4)], 'action': [(16, 8)], 'day': [(16, 4)], 'called': [(16, 8)], 'global': [(16, 4)], 'blog': [(16, 4)], 'being': [(16, 3), (19, 3)], 'into': [(16, 4)], 'lend': [(16, 4)], 'support': [(16, 4)], 'two': [(16, 4)], 'imprisoned': [(16, 4)], 'Iranian': [(16, 4)], 'bloggers': [(16, 4)], 'month': [(16, 4)], 'old': [(16, 3), (17, 6)], 'Committee': [(16, 4)], 'Protect': [(16, 4)], 'Bloggers': [(16, 4)], 'asking': [(16, 4)], 'thos': [(16, 4)], 'Finding': [(17, 4)], 'new': [(17, 3), (20, 3)], 'homes': [(17, 4)], 'phones': [(17, 8)], 'Re': [(17, 4)], 'mobile': [(17, 8)], 'not': [(17, 4)], 'just': [(17, 4)], 'good': [(17, 4)], 'environment': [(17, 4)], 'social': [(17, 4)], 'benefits': [(17, 4)], 'too': [(17, 4)], 'Research': [(17, 4)], 'found': [(17, 4)], 'nations': [(17, 4)], 'can': [(17, 4)], 'hel': [(17, 4)], 'PlayStation': [(18, 8)], '3': [(18, 8)], 'chip': [(18, 8)], 'unveiled': [(18, 3), (19, 3)], 'Details': [(18, 4)], 'designed': [(18, 4)], 'Sony': [(18, 8)], 'console': [(18, 4)], 'San': [(18, 4)], 'Francisco': [(18, 4)], 'Monday': [(18, 4)], 'Toshiba': [(18, 4)], 'who': [(18, 4)], 'working': [(18, 3), (20, 3)], 'Cell': [(18, 4)], 'Intel': [(19, 8)], 'unveils': [(19, 4)], 'laser': [(19, 4)], 'breakthrough': [(19, 4)], 'could': [(19, 4)], 'mean': [(19, 4)], 'data': [(19, 4)], 'soon': [(19, 4)], 'moved': [(19, 4)], 'chips': [(19, 4)], 'at': [(19, 8)], 'speed': [(19, 4)], 'light': [(19, 4)], 'Scientists': [(19, 4)], 'overcome': [(19, 4)], 'fundamental': [(19, 4)], 'problem': [(19, 4)], 'scares': [(20, 4)], 'spark': [(20, 4)], 'browser': [(20, 8)], 'fix': [(20, 4)], 'version': [(20, 4)], 'Internet': [(20, 4)], 'Explorer': [(20, 4)], 'revamp': [(20, 4)], 'prompted': [(20, 4)], 'growing': [(20, 4)], 'well': [(20, 4)], 'increa': [(20, 4)]})\n",
      "term_info：   {'the': [[1, 2, 3, 4, 5, 6, 7, 8, 9, 11, 12, 13, 14, 15, 17, 18, 19], [4, 4, 4, 2, 4, 2, 2, 2, 4, 4, 2, 4, 2, 2, 2, 4, 2], 4, [(1, 4), (2, 4), (3, 4), (4, 2), (5, 4), (6, 2), (7, 2), (8, 2), (9, 4), (11, 4), (12, 2), (13, 4), (14, 2), (15, 2), (17, 2), (18, 4), (19, 2)]]}\n",
      "candidates:   {'the': (1, 4)}\n"
     ]
    },
    {
     "ename": "TypeError",
     "evalue": "cannot unpack non-iterable NoneType object",
     "output_type": "error",
     "traceback": [
      "\u001B[1;31m---------------------------------------------------------------------------\u001B[0m",
      "\u001B[1;31mTypeError\u001B[0m                                 Traceback (most recent call last)",
      "\u001B[1;32m<ipython-input-20-3ff7e3b08de6>\u001B[0m in \u001B[0;36m<module>\u001B[1;34m\u001B[0m\n\u001B[0;32m      4\u001B[0m \u001B[1;33m\u001B[0m\u001B[0m\n\u001B[0;32m      5\u001B[0m \u001B[1;31m## 2. WAND algorithm...\u001B[0m\u001B[1;33m\u001B[0m\u001B[1;33m\u001B[0m\u001B[1;33m\u001B[0m\u001B[0m\n\u001B[1;32m----> 6\u001B[1;33m \u001B[0mtopk_result\u001B[0m\u001B[1;33m,\u001B[0m \u001B[0mfull_evaluation_count\u001B[0m \u001B[1;33m=\u001B[0m \u001B[0mWAND_Algo\u001B[0m\u001B[1;33m(\u001B[0m\u001B[0mquery_terms\u001B[0m\u001B[1;33m,\u001B[0m \u001B[0mtop_k\u001B[0m\u001B[1;33m,\u001B[0m \u001B[0minverted_index\u001B[0m\u001B[1;33m)\u001B[0m\u001B[1;33m\u001B[0m\u001B[1;33m\u001B[0m\u001B[0m\n\u001B[0m\u001B[0;32m      7\u001B[0m \u001B[1;33m\u001B[0m\u001B[0m\n\u001B[0;32m      8\u001B[0m \u001B[0mprint\u001B[0m\u001B[1;33m(\u001B[0m\u001B[1;34m'Top-k result = '\u001B[0m\u001B[1;33m,\u001B[0m \u001B[0mtopk_result\u001B[0m\u001B[1;33m)\u001B[0m\u001B[1;33m\u001B[0m\u001B[1;33m\u001B[0m\u001B[0m\n",
      "\u001B[1;31mTypeError\u001B[0m: cannot unpack non-iterable NoneType object"
     ]
    }
   ],
   "source": [
    "## Test cases\n",
    "query_terms = [\"the\", \"Ink\"]\n",
    "top_k = 3\n",
    "\n",
    "## 2. WAND algorithm...\n",
    "topk_result, full_evaluation_count = WAND_Algo(query_terms, top_k, inverted_index)\n",
    "\n",
    "print('Top-k result = ', topk_result)\n",
    "print('Evaluation Count = ', full_evaluation_count)"
   ]
  },
  {
   "cell_type": "markdown",
   "metadata": {},
   "source": [
    "### Test Case 2"
   ]
  },
  {
   "cell_type": "code",
   "execution_count": null,
   "metadata": {},
   "outputs": [],
   "source": [
    "## Test cases\n",
    "query_terms = [\"Microsoft\", \"will\", \"Search\"]\n",
    "top_k = 2\n",
    "\n",
    "## 2. WAND algorithm...\n",
    "topk_result, full_evaluation_count = WAND_Algo(query_terms, top_k, inverted_index)\n",
    "\n",
    "print('Top-k result = ', topk_result)\n",
    "print('Evaluation Count = ', full_evaluation_count)"
   ]
  },
  {
   "cell_type": "markdown",
   "metadata": {},
   "source": [
    "### Test Case 3"
   ]
  },
  {
   "cell_type": "code",
   "execution_count": null,
   "metadata": {},
   "outputs": [],
   "source": [
    "## Test cases\n",
    "query_terms = [\"the\", \"The\", \"a\", \"is\"]\n",
    "top_k = 3\n",
    "\n",
    "## 2. WAND algorithm...\n",
    "topk_result, full_evaluation_count = WAND_Algo(query_terms, top_k, inverted_index)\n",
    "\n",
    "print('Top-k result = ', topk_result)\n",
    "print('Evaluation Count = ', full_evaluation_count)"
   ]
  },
  {
   "cell_type": "code",
   "execution_count": null,
   "metadata": {},
   "outputs": [],
   "source": []
  }
 ],
 "metadata": {
  "kernelspec": {
   "display_name": "Python 3",
   "language": "python",
   "name": "python3"
  },
  "language_info": {
   "codemirror_mode": {
    "name": "ipython",
    "version": 3
   },
   "file_extension": ".py",
   "mimetype": "text/x-python",
   "name": "python",
   "nbconvert_exporter": "python",
   "pygments_lexer": "ipython3",
   "version": "3.8.5"
  },
  "nteract": {
   "version": "0.12.3"
  }
 },
 "nbformat": 4,
 "nbformat_minor": 2
}