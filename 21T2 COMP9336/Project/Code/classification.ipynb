{
 "cells": [
  {
   "cell_type": "markdown",
   "id": "681fbc9c",
   "metadata": {},
   "source": [
    "# <center>COMP9336 Mobile Data Networking 2021 Term 2 Project</center>"
   ]
  },
  {
   "cell_type": "markdown",
   "id": "d936d665",
   "metadata": {},
   "source": [
    "## <div align=\"right\">Hongxiao Jin (z5241154)</div>"
   ]
  },
  {
   "cell_type": "code",
   "execution_count": 1,
   "id": "33fb3c97",
   "metadata": {
    "scrolled": false
   },
   "outputs": [],
   "source": [
    "import numpy as np\n",
    "import pandas as pd\n",
    "from sklearn.model_selection import train_test_split, KFold, GridSearchCV\n",
    "from sklearn.neighbors import KNeighborsClassifier\n",
    "from sklearn.metrics import accuracy_score, confusion_matrix\n",
    "from sklearn.preprocessing import StandardScaler, MinMaxScaler"
   ]
  },
  {
   "cell_type": "code",
   "execution_count": 2,
   "id": "d970ab8b",
   "metadata": {
    "scrolled": false
   },
   "outputs": [],
   "source": [
    "# set label and obtain formatted data\n",
    "def format_data(df, la):\n",
    "    df[\"Time\"] = df[\"Time\"].map(lambda x: int(x))\n",
    "    time = df[\"Time\"].values.tolist()\n",
    "    rss = df[\"RSS\"].values.tolist()\n",
    "\n",
    "    interval = 5\n",
    "    temp, ds_rss = [], []\n",
    "    for j in range(len(time)):\n",
    "        if time[j] < interval and len(temp) < 45:\n",
    "            temp.append(rss[j])\n",
    "        else:\n",
    "            ds_rss.append(temp)\n",
    "            interval += 5\n",
    "            temp = []\n",
    "\n",
    "    ds = pd.DataFrame({\"RSS\": ds_rss, \"label\": [la] * len(ds_rss)})\n",
    "    return ds"
   ]
  },
  {
   "cell_type": "code",
   "execution_count": 3,
   "id": "c6b8d6c8",
   "metadata": {
    "scrolled": false
   },
   "outputs": [],
   "source": [
    "# read gesture data\n",
    "df1 = pd.read_excel(\"../Dataset/pull-push.xlsx\")\n",
    "df2 = pd.read_excel(\"../Dataset/up-down.xlsx\")\n",
    "df3 = pd.read_excel(\"../Dataset/wave.xlsx\")"
   ]
  },
  {
   "cell_type": "code",
   "execution_count": 4,
   "id": "6769ef5a",
   "metadata": {
    "scrolled": false
   },
   "outputs": [],
   "source": [
    "# set labels\n",
    "df1_ds = format_data(df1, \"pull-push\")\n",
    "df2_ds = format_data(df2, \"up-down\")\n",
    "df3_ds = format_data(df3, \"wave\")"
   ]
  },
  {
   "cell_type": "code",
   "execution_count": 5,
   "id": "1ad4d69f",
   "metadata": {
    "scrolled": false
   },
   "outputs": [],
   "source": [
    "# concat three excel file to a dataset\n",
    "dataset = pd.concat([df1_ds, df2_ds, df3_ds], axis=0, ignore_index=True)"
   ]
  },
  {
   "cell_type": "code",
   "execution_count": 6,
   "id": "271a91d2",
   "metadata": {
    "scrolled": false
   },
   "outputs": [
    {
     "data": {
      "text/html": [
       "<div>\n",
       "<style scoped>\n",
       "    .dataframe tbody tr th:only-of-type {\n",
       "        vertical-align: middle;\n",
       "    }\n",
       "\n",
       "    .dataframe tbody tr th {\n",
       "        vertical-align: top;\n",
       "    }\n",
       "\n",
       "    .dataframe thead th {\n",
       "        text-align: right;\n",
       "    }\n",
       "</style>\n",
       "<table border=\"1\" class=\"dataframe\">\n",
       "  <thead>\n",
       "    <tr style=\"text-align: right;\">\n",
       "      <th></th>\n",
       "      <th>RSS</th>\n",
       "      <th>label</th>\n",
       "    </tr>\n",
       "  </thead>\n",
       "  <tbody>\n",
       "    <tr>\n",
       "      <th>0</th>\n",
       "      <td>[-56, -55, -58, -57, -57, -56, -57, -56, -56, ...</td>\n",
       "      <td>pull-push</td>\n",
       "    </tr>\n",
       "    <tr>\n",
       "      <th>1</th>\n",
       "      <td>[-57, -57, -57, -57, -57, -57, -58, -58, -58, ...</td>\n",
       "      <td>pull-push</td>\n",
       "    </tr>\n",
       "    <tr>\n",
       "      <th>2</th>\n",
       "      <td>[-55, -55, -56, -56, -56, -56, -57, -56, -58, ...</td>\n",
       "      <td>pull-push</td>\n",
       "    </tr>\n",
       "    <tr>\n",
       "      <th>3</th>\n",
       "      <td>[-57, -56, -56, -56, -56, -57, -57, -56, -57, ...</td>\n",
       "      <td>pull-push</td>\n",
       "    </tr>\n",
       "    <tr>\n",
       "      <th>4</th>\n",
       "      <td>[-59, -59, -59, -59, -59, -59, -58, -57, -57, ...</td>\n",
       "      <td>pull-push</td>\n",
       "    </tr>\n",
       "    <tr>\n",
       "      <th>...</th>\n",
       "      <td>...</td>\n",
       "      <td>...</td>\n",
       "    </tr>\n",
       "    <tr>\n",
       "      <th>64</th>\n",
       "      <td>[-55, -54, -54, -54, -54, -54, -54, -54, -55, ...</td>\n",
       "      <td>wave</td>\n",
       "    </tr>\n",
       "    <tr>\n",
       "      <th>65</th>\n",
       "      <td>[-54, -54, -54, -54, -54, -54, -54, -54, -54, ...</td>\n",
       "      <td>wave</td>\n",
       "    </tr>\n",
       "    <tr>\n",
       "      <th>66</th>\n",
       "      <td>[-55, -54, -53, -54, -54, -54, -54, -54, -54, ...</td>\n",
       "      <td>wave</td>\n",
       "    </tr>\n",
       "    <tr>\n",
       "      <th>67</th>\n",
       "      <td>[-55, -55, -55, -54, -54, -54, -53, -53, -54, ...</td>\n",
       "      <td>wave</td>\n",
       "    </tr>\n",
       "    <tr>\n",
       "      <th>68</th>\n",
       "      <td>[-55, -56, -56, -56, -56, -55, -55, -54, -54, ...</td>\n",
       "      <td>wave</td>\n",
       "    </tr>\n",
       "  </tbody>\n",
       "</table>\n",
       "<p>69 rows × 2 columns</p>\n",
       "</div>"
      ],
      "text/plain": [
       "                                                  RSS      label\n",
       "0   [-56, -55, -58, -57, -57, -56, -57, -56, -56, ...  pull-push\n",
       "1   [-57, -57, -57, -57, -57, -57, -58, -58, -58, ...  pull-push\n",
       "2   [-55, -55, -56, -56, -56, -56, -57, -56, -58, ...  pull-push\n",
       "3   [-57, -56, -56, -56, -56, -57, -57, -56, -57, ...  pull-push\n",
       "4   [-59, -59, -59, -59, -59, -59, -58, -57, -57, ...  pull-push\n",
       "..                                                ...        ...\n",
       "64  [-55, -54, -54, -54, -54, -54, -54, -54, -55, ...       wave\n",
       "65  [-54, -54, -54, -54, -54, -54, -54, -54, -54, ...       wave\n",
       "66  [-55, -54, -53, -54, -54, -54, -54, -54, -54, ...       wave\n",
       "67  [-55, -55, -55, -54, -54, -54, -53, -53, -54, ...       wave\n",
       "68  [-55, -56, -56, -56, -56, -55, -55, -54, -54, ...       wave\n",
       "\n",
       "[69 rows x 2 columns]"
      ]
     },
     "execution_count": 6,
     "metadata": {},
     "output_type": "execute_result"
    }
   ],
   "source": [
    "dataset"
   ]
  },
  {
   "cell_type": "code",
   "execution_count": 7,
   "id": "09e8b70b",
   "metadata": {
    "scrolled": false
   },
   "outputs": [],
   "source": [
    "# obtain x: rss_list and y: label_list\n",
    "rss_list = dataset[\"RSS\"].values.tolist()\n",
    "label_list = dataset[\"label\"].values.tolist()"
   ]
  },
  {
   "cell_type": "code",
   "execution_count": 8,
   "id": "cebf1b4d",
   "metadata": {
    "scrolled": false
   },
   "outputs": [],
   "source": [
    "# Standardized data\n",
    "rss_list = StandardScaler().fit(rss_list).transform(rss_list)"
   ]
  },
  {
   "cell_type": "code",
   "execution_count": 9,
   "id": "29806483",
   "metadata": {
    "scrolled": false
   },
   "outputs": [
    {
     "data": {
      "text/plain": [
       "array([[-0.40773893,  0.00655798, -1.39732487, ..., -0.47942503,\n",
       "        -0.49480154, -0.47940708],\n",
       "       [-0.87663871, -0.89844275, -0.92928887, ..., -0.47942503,\n",
       "        -0.02061673, -0.47940708],\n",
       "       [ 0.06116084,  0.00655798, -0.46125287, ..., -1.39832302,\n",
       "        -1.44317116, -0.95196548],\n",
       "       ...,\n",
       "       [ 0.06116084,  0.45905834,  0.94285513, ..., -0.47942503,\n",
       "        -0.02061673, -0.47940708],\n",
       "       [ 0.06116084,  0.00655798,  0.00678313, ..., -0.01997604,\n",
       "        -0.49480154, -0.47940708],\n",
       "       [ 0.06116084, -0.44594239, -0.46125287, ..., -0.93887403,\n",
       "        -0.02061673, -0.00684867]])"
      ]
     },
     "execution_count": 9,
     "metadata": {},
     "output_type": "execute_result"
    }
   ],
   "source": [
    "rss_list"
   ]
  },
  {
   "cell_type": "code",
   "execution_count": 10,
   "id": "b032f16d",
   "metadata": {
    "scrolled": false
   },
   "outputs": [],
   "source": [
    "# Normalization\n",
    "rss_list = MinMaxScaler().fit_transform(rss_list)"
   ]
  },
  {
   "cell_type": "code",
   "execution_count": 11,
   "id": "ad97ba0e",
   "metadata": {
    "scrolled": false
   },
   "outputs": [
    {
     "data": {
      "text/plain": [
       "array([[0.5       , 0.625     , 0.14285714, ..., 0.42857143, 0.42857143,\n",
       "        0.5       ],\n",
       "       [0.375     , 0.375     , 0.28571429, ..., 0.42857143, 0.57142857,\n",
       "        0.5       ],\n",
       "       [0.625     , 0.625     , 0.42857143, ..., 0.14285714, 0.14285714,\n",
       "        0.375     ],\n",
       "       ...,\n",
       "       [0.625     , 0.75      , 0.85714286, ..., 0.42857143, 0.57142857,\n",
       "        0.5       ],\n",
       "       [0.625     , 0.625     , 0.57142857, ..., 0.57142857, 0.42857143,\n",
       "        0.5       ],\n",
       "       [0.625     , 0.5       , 0.42857143, ..., 0.28571429, 0.57142857,\n",
       "        0.625     ]])"
      ]
     },
     "execution_count": 11,
     "metadata": {},
     "output_type": "execute_result"
    }
   ],
   "source": [
    "rss_list"
   ]
  },
  {
   "cell_type": "code",
   "execution_count": 12,
   "id": "cc9b197e",
   "metadata": {
    "scrolled": false
   },
   "outputs": [],
   "source": [
    "# split train set and test set\n",
    "x_train, x_test, y_train, y_test = train_test_split(rss_list, label_list, test_size=0.2, shuffle=True, random_state=2)"
   ]
  },
  {
   "cell_type": "code",
   "execution_count": 13,
   "id": "6ca855fe",
   "metadata": {
    "scrolled": false
   },
   "outputs": [
    {
     "data": {
      "text/plain": [
       "GridSearchCV(cv=KFold(n_splits=10, random_state=None, shuffle=False),\n",
       "             estimator=KNeighborsClassifier(),\n",
       "             param_grid={'leaf_size': [15, 30], 'n_neighbors': [3, 10]},\n",
       "             scoring='accuracy')"
      ]
     },
     "execution_count": 13,
     "metadata": {},
     "output_type": "execute_result"
    }
   ],
   "source": [
    "k_fold = KFold(n_splits=10)\n",
    "knn = GridSearchCV(KNeighborsClassifier(), param_grid={'n_neighbors': list([3, 10]), 'leaf_size': list([15, 30])},\n",
    "                       cv=k_fold, scoring=\"accuracy\")\n",
    "knn.fit(x_train, y_train)"
   ]
  },
  {
   "cell_type": "code",
   "execution_count": 14,
   "id": "fb44b2f5",
   "metadata": {
    "scrolled": false
   },
   "outputs": [
    {
     "data": {
      "text/plain": [
       "KNeighborsClassifier(leaf_size=15, n_neighbors=3)"
      ]
     },
     "execution_count": 14,
     "metadata": {},
     "output_type": "execute_result"
    }
   ],
   "source": [
    "knn.best_estimator_"
   ]
  },
  {
   "cell_type": "code",
   "execution_count": 15,
   "id": "d4c7d1c4",
   "metadata": {
    "scrolled": false
   },
   "outputs": [
    {
     "data": {
      "text/plain": [
       "KNeighborsClassifier(leaf_size=15, n_neighbors=3)"
      ]
     },
     "execution_count": 15,
     "metadata": {},
     "output_type": "execute_result"
    }
   ],
   "source": [
    "# fit data\n",
    "knn_classification = KNeighborsClassifier(leaf_size=15, n_neighbors=3)\n",
    "knn_classification.fit(x_train, y_train)"
   ]
  },
  {
   "cell_type": "code",
   "execution_count": 16,
   "id": "e71670bd",
   "metadata": {
    "scrolled": false
   },
   "outputs": [],
   "source": [
    "# prediction\n",
    "y_pred = knn_classification.predict(x_test)"
   ]
  },
  {
   "cell_type": "code",
   "execution_count": 17,
   "id": "a3e1e61e",
   "metadata": {
    "scrolled": false
   },
   "outputs": [
    {
     "data": {
      "text/plain": [
       "array([[4, 0, 0],\n",
       "       [0, 7, 1],\n",
       "       [0, 0, 2]], dtype=int64)"
      ]
     },
     "execution_count": 17,
     "metadata": {},
     "output_type": "execute_result"
    }
   ],
   "source": [
    "confusion_matrix(y_test, y_pred, labels=[\"pull-push\", \"up-down\", \"wave\"])"
   ]
  },
  {
   "cell_type": "code",
   "execution_count": 18,
   "id": "eaeb8ad7",
   "metadata": {
    "scrolled": false
   },
   "outputs": [
    {
     "data": {
      "text/plain": [
       "0.9285714285714286"
      ]
     },
     "execution_count": 18,
     "metadata": {},
     "output_type": "execute_result"
    }
   ],
   "source": [
    "# Performance analysis\n",
    "accuracy_score(y_test, y_pred)"
   ]
  }
 ],
 "metadata": {
  "kernelspec": {
   "display_name": "Python 3",
   "language": "python",
   "name": "python3"
  },
  "language_info": {
   "codemirror_mode": {
    "name": "ipython",
    "version": 3
   },
   "file_extension": ".py",
   "mimetype": "text/x-python",
   "name": "python",
   "nbconvert_exporter": "python",
   "pygments_lexer": "ipython3",
   "version": "3.8.8"
  }
 },
 "nbformat": 4,
 "nbformat_minor": 5
}
